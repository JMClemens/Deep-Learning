{
 "cells": [
  {
   "cell_type": "markdown",
   "metadata": {},
   "source": [
    "Homework 2 Submission - CS498H/598H\n",
    "\n",
    "Dr. Liu, Hood College, Spring 2019\n",
    "\n",
    "Joshua Clemens\n",
    "\n",
    "02/06/2019"
   ]
  },
  {
   "cell_type": "code",
   "execution_count": 55,
   "metadata": {},
   "outputs": [],
   "source": [
    "import numpy as np\n",
    "import pandas as pd\n",
    "# The line below is used to allow inline plotting of matplotlib graphs\n",
    "%matplotlib inline\n",
    "import matplotlib.pyplot as plt"
   ]
  },
  {
   "cell_type": "markdown",
   "metadata": {},
   "source": [
    "Load our csv file into a pandas dataframe and see how the data is organzied"
   ]
  },
  {
   "cell_type": "code",
   "execution_count": 56,
   "metadata": {},
   "outputs": [],
   "source": [
    "data = pd.read_csv('Data_Entry_2017.csv')"
   ]
  },
  {
   "cell_type": "code",
   "execution_count": 57,
   "metadata": {
    "scrolled": true
   },
   "outputs": [
    {
     "data": {
      "text/html": [
       "<div>\n",
       "<style scoped>\n",
       "    .dataframe tbody tr th:only-of-type {\n",
       "        vertical-align: middle;\n",
       "    }\n",
       "\n",
       "    .dataframe tbody tr th {\n",
       "        vertical-align: top;\n",
       "    }\n",
       "\n",
       "    .dataframe thead th {\n",
       "        text-align: right;\n",
       "    }\n",
       "</style>\n",
       "<table border=\"1\" class=\"dataframe\">\n",
       "  <thead>\n",
       "    <tr style=\"text-align: right;\">\n",
       "      <th></th>\n",
       "      <th>Follow-up #</th>\n",
       "      <th>Patient ID</th>\n",
       "      <th>Patient Age</th>\n",
       "      <th>OriginalImage[Width</th>\n",
       "      <th>Height]</th>\n",
       "      <th>OriginalImagePixelSpacing[x</th>\n",
       "      <th>y]</th>\n",
       "      <th>Unnamed: 11</th>\n",
       "    </tr>\n",
       "  </thead>\n",
       "  <tbody>\n",
       "    <tr>\n",
       "      <th>count</th>\n",
       "      <td>112120.000000</td>\n",
       "      <td>112120.000000</td>\n",
       "      <td>112120.000000</td>\n",
       "      <td>112120.000000</td>\n",
       "      <td>112120.000000</td>\n",
       "      <td>112120.000000</td>\n",
       "      <td>112120.000000</td>\n",
       "      <td>0.0</td>\n",
       "    </tr>\n",
       "    <tr>\n",
       "      <th>mean</th>\n",
       "      <td>8.573751</td>\n",
       "      <td>14346.381743</td>\n",
       "      <td>46.901463</td>\n",
       "      <td>2646.078844</td>\n",
       "      <td>2486.438842</td>\n",
       "      <td>0.155649</td>\n",
       "      <td>0.155649</td>\n",
       "      <td>NaN</td>\n",
       "    </tr>\n",
       "    <tr>\n",
       "      <th>std</th>\n",
       "      <td>15.406320</td>\n",
       "      <td>8403.876972</td>\n",
       "      <td>16.839923</td>\n",
       "      <td>341.246429</td>\n",
       "      <td>401.268227</td>\n",
       "      <td>0.016174</td>\n",
       "      <td>0.016174</td>\n",
       "      <td>NaN</td>\n",
       "    </tr>\n",
       "    <tr>\n",
       "      <th>min</th>\n",
       "      <td>0.000000</td>\n",
       "      <td>1.000000</td>\n",
       "      <td>1.000000</td>\n",
       "      <td>1143.000000</td>\n",
       "      <td>966.000000</td>\n",
       "      <td>0.115000</td>\n",
       "      <td>0.115000</td>\n",
       "      <td>NaN</td>\n",
       "    </tr>\n",
       "    <tr>\n",
       "      <th>25%</th>\n",
       "      <td>0.000000</td>\n",
       "      <td>7310.750000</td>\n",
       "      <td>35.000000</td>\n",
       "      <td>2500.000000</td>\n",
       "      <td>2048.000000</td>\n",
       "      <td>0.143000</td>\n",
       "      <td>0.143000</td>\n",
       "      <td>NaN</td>\n",
       "    </tr>\n",
       "    <tr>\n",
       "      <th>50%</th>\n",
       "      <td>3.000000</td>\n",
       "      <td>13993.000000</td>\n",
       "      <td>49.000000</td>\n",
       "      <td>2518.000000</td>\n",
       "      <td>2544.000000</td>\n",
       "      <td>0.143000</td>\n",
       "      <td>0.143000</td>\n",
       "      <td>NaN</td>\n",
       "    </tr>\n",
       "    <tr>\n",
       "      <th>75%</th>\n",
       "      <td>10.000000</td>\n",
       "      <td>20673.000000</td>\n",
       "      <td>59.000000</td>\n",
       "      <td>2992.000000</td>\n",
       "      <td>2991.000000</td>\n",
       "      <td>0.168000</td>\n",
       "      <td>0.168000</td>\n",
       "      <td>NaN</td>\n",
       "    </tr>\n",
       "    <tr>\n",
       "      <th>max</th>\n",
       "      <td>183.000000</td>\n",
       "      <td>30805.000000</td>\n",
       "      <td>414.000000</td>\n",
       "      <td>3827.000000</td>\n",
       "      <td>4715.000000</td>\n",
       "      <td>0.198800</td>\n",
       "      <td>0.198800</td>\n",
       "      <td>NaN</td>\n",
       "    </tr>\n",
       "  </tbody>\n",
       "</table>\n",
       "</div>"
      ],
      "text/plain": [
       "         Follow-up #     Patient ID    Patient Age  OriginalImage[Width  \\\n",
       "count  112120.000000  112120.000000  112120.000000        112120.000000   \n",
       "mean        8.573751   14346.381743      46.901463          2646.078844   \n",
       "std        15.406320    8403.876972      16.839923           341.246429   \n",
       "min         0.000000       1.000000       1.000000          1143.000000   \n",
       "25%         0.000000    7310.750000      35.000000          2500.000000   \n",
       "50%         3.000000   13993.000000      49.000000          2518.000000   \n",
       "75%        10.000000   20673.000000      59.000000          2992.000000   \n",
       "max       183.000000   30805.000000     414.000000          3827.000000   \n",
       "\n",
       "             Height]  OriginalImagePixelSpacing[x             y]  Unnamed: 11  \n",
       "count  112120.000000                112120.000000  112120.000000          0.0  \n",
       "mean     2486.438842                     0.155649       0.155649          NaN  \n",
       "std       401.268227                     0.016174       0.016174          NaN  \n",
       "min       966.000000                     0.115000       0.115000          NaN  \n",
       "25%      2048.000000                     0.143000       0.143000          NaN  \n",
       "50%      2544.000000                     0.143000       0.143000          NaN  \n",
       "75%      2991.000000                     0.168000       0.168000          NaN  \n",
       "max      4715.000000                     0.198800       0.198800          NaN  "
      ]
     },
     "execution_count": 57,
     "metadata": {},
     "output_type": "execute_result"
    }
   ],
   "source": [
    "data.describe()"
   ]
  },
  {
   "cell_type": "code",
   "execution_count": 58,
   "metadata": {},
   "outputs": [
    {
     "data": {
      "text/html": [
       "<div>\n",
       "<style scoped>\n",
       "    .dataframe tbody tr th:only-of-type {\n",
       "        vertical-align: middle;\n",
       "    }\n",
       "\n",
       "    .dataframe tbody tr th {\n",
       "        vertical-align: top;\n",
       "    }\n",
       "\n",
       "    .dataframe thead th {\n",
       "        text-align: right;\n",
       "    }\n",
       "</style>\n",
       "<table border=\"1\" class=\"dataframe\">\n",
       "  <thead>\n",
       "    <tr style=\"text-align: right;\">\n",
       "      <th></th>\n",
       "      <th>Image Index</th>\n",
       "      <th>Finding Labels</th>\n",
       "      <th>Follow-up #</th>\n",
       "      <th>Patient ID</th>\n",
       "      <th>Patient Age</th>\n",
       "      <th>Patient Gender</th>\n",
       "      <th>View Position</th>\n",
       "      <th>OriginalImage[Width</th>\n",
       "      <th>Height]</th>\n",
       "      <th>OriginalImagePixelSpacing[x</th>\n",
       "      <th>y]</th>\n",
       "      <th>Unnamed: 11</th>\n",
       "    </tr>\n",
       "  </thead>\n",
       "  <tbody>\n",
       "    <tr>\n",
       "      <th>0</th>\n",
       "      <td>00000001_000.png</td>\n",
       "      <td>Cardiomegaly</td>\n",
       "      <td>0</td>\n",
       "      <td>1</td>\n",
       "      <td>58</td>\n",
       "      <td>M</td>\n",
       "      <td>PA</td>\n",
       "      <td>2682</td>\n",
       "      <td>2749</td>\n",
       "      <td>0.143</td>\n",
       "      <td>0.143</td>\n",
       "      <td>NaN</td>\n",
       "    </tr>\n",
       "    <tr>\n",
       "      <th>1</th>\n",
       "      <td>00000001_001.png</td>\n",
       "      <td>Cardiomegaly|Emphysema</td>\n",
       "      <td>1</td>\n",
       "      <td>1</td>\n",
       "      <td>58</td>\n",
       "      <td>M</td>\n",
       "      <td>PA</td>\n",
       "      <td>2894</td>\n",
       "      <td>2729</td>\n",
       "      <td>0.143</td>\n",
       "      <td>0.143</td>\n",
       "      <td>NaN</td>\n",
       "    </tr>\n",
       "    <tr>\n",
       "      <th>2</th>\n",
       "      <td>00000001_002.png</td>\n",
       "      <td>Cardiomegaly|Effusion</td>\n",
       "      <td>2</td>\n",
       "      <td>1</td>\n",
       "      <td>58</td>\n",
       "      <td>M</td>\n",
       "      <td>PA</td>\n",
       "      <td>2500</td>\n",
       "      <td>2048</td>\n",
       "      <td>0.168</td>\n",
       "      <td>0.168</td>\n",
       "      <td>NaN</td>\n",
       "    </tr>\n",
       "    <tr>\n",
       "      <th>3</th>\n",
       "      <td>00000002_000.png</td>\n",
       "      <td>No Finding</td>\n",
       "      <td>0</td>\n",
       "      <td>2</td>\n",
       "      <td>81</td>\n",
       "      <td>M</td>\n",
       "      <td>PA</td>\n",
       "      <td>2500</td>\n",
       "      <td>2048</td>\n",
       "      <td>0.171</td>\n",
       "      <td>0.171</td>\n",
       "      <td>NaN</td>\n",
       "    </tr>\n",
       "    <tr>\n",
       "      <th>4</th>\n",
       "      <td>00000003_000.png</td>\n",
       "      <td>Hernia</td>\n",
       "      <td>0</td>\n",
       "      <td>3</td>\n",
       "      <td>81</td>\n",
       "      <td>F</td>\n",
       "      <td>PA</td>\n",
       "      <td>2582</td>\n",
       "      <td>2991</td>\n",
       "      <td>0.143</td>\n",
       "      <td>0.143</td>\n",
       "      <td>NaN</td>\n",
       "    </tr>\n",
       "  </tbody>\n",
       "</table>\n",
       "</div>"
      ],
      "text/plain": [
       "        Image Index          Finding Labels  Follow-up #  Patient ID  \\\n",
       "0  00000001_000.png            Cardiomegaly            0           1   \n",
       "1  00000001_001.png  Cardiomegaly|Emphysema            1           1   \n",
       "2  00000001_002.png   Cardiomegaly|Effusion            2           1   \n",
       "3  00000002_000.png              No Finding            0           2   \n",
       "4  00000003_000.png                  Hernia            0           3   \n",
       "\n",
       "   Patient Age Patient Gender View Position  OriginalImage[Width  Height]  \\\n",
       "0           58              M            PA                 2682     2749   \n",
       "1           58              M            PA                 2894     2729   \n",
       "2           58              M            PA                 2500     2048   \n",
       "3           81              M            PA                 2500     2048   \n",
       "4           81              F            PA                 2582     2991   \n",
       "\n",
       "   OriginalImagePixelSpacing[x     y]  Unnamed: 11  \n",
       "0                        0.143  0.143          NaN  \n",
       "1                        0.143  0.143          NaN  \n",
       "2                        0.168  0.168          NaN  \n",
       "3                        0.171  0.171          NaN  \n",
       "4                        0.143  0.143          NaN  "
      ]
     },
     "execution_count": 58,
     "metadata": {},
     "output_type": "execute_result"
    }
   ],
   "source": [
    "data.head()"
   ]
  },
  {
   "cell_type": "markdown",
   "metadata": {},
   "source": [
    "Question a) - How many different labels?\n",
    "To answer this we find the number of unique labels"
   ]
  },
  {
   "cell_type": "code",
   "execution_count": 59,
   "metadata": {},
   "outputs": [
    {
     "data": {
      "text/plain": [
       "836"
      ]
     },
     "execution_count": 59,
     "metadata": {},
     "output_type": "execute_result"
    }
   ],
   "source": [
    "findings = data['Finding Labels']\n",
    "findings.nunique()"
   ]
  },
  {
   "cell_type": "markdown",
   "metadata": {},
   "source": [
    "Question b) - Age distribution of patients\n",
    "To answer this, we will describe the data set to see what it looks like in terms of min, max, mean, etc.\n",
    "We can also view the data as a histogram to see a visual representation of the age distribution."
   ]
  },
  {
   "cell_type": "code",
   "execution_count": 60,
   "metadata": {},
   "outputs": [
    {
     "data": {
      "text/plain": [
       "count    112120.000000\n",
       "mean         46.901463\n",
       "std          16.839923\n",
       "min           1.000000\n",
       "25%          35.000000\n",
       "50%          49.000000\n",
       "75%          59.000000\n",
       "max         414.000000\n",
       "Name: Patient Age, dtype: float64"
      ]
     },
     "execution_count": 60,
     "metadata": {},
     "output_type": "execute_result"
    }
   ],
   "source": [
    "age = data['Patient Age']\n",
    "age.describe()"
   ]
  },
  {
   "cell_type": "code",
   "execution_count": 61,
   "metadata": {},
   "outputs": [
    {
     "data": {
      "text/plain": [
       "<matplotlib.axes._subplots.AxesSubplot at 0x17019f2f5f8>"
      ]
     },
     "execution_count": 61,
     "metadata": {},
     "output_type": "execute_result"
    },
    {
     "data": {
      "image/png": "[encoded data removed]",
      "text/plain": [
       "<Figure size 432x288 with 1 Axes>"
      ]
     },
     "metadata": {
      "needs_background": "light"
     },
     "output_type": "display_data"
    }
   ],
   "source": [
    "age.hist( bins=[x*5 for x in range(20)] )"
   ]
  },
  {
   "cell_type": "markdown",
   "metadata": {},
   "source": [
    "Question c) - Anything interesting?\n",
    "One thing I found interesting is that the data for patient ages was entered incorrectly, or they're taking xrays of really dead people. There is a max age of 414!\n",
    "\n",
    "I also found it interesting that the majority (a little under half) of the data from the x-rays have- labels of 'No Finding', or the xrays were done but didn't show any conclusive evidence. This makes me wonder whether the x-rays were performed on patients as precautions or due to other factors, such as repiratory issues (which are some of the other findings)"
   ]
  },
  {
   "cell_type": "code",
   "execution_count": 54,
   "metadata": {},
   "outputs": [
    {
     "data": {
      "text/plain": [
       "No Finding                                                                     60361\n",
       "Infiltration                                                                    9547\n",
       "Atelectasis                                                                     4215\n",
       "Effusion                                                                        3955\n",
       "Nodule                                                                          2705\n",
       "Pneumothorax                                                                    2194\n",
       "Mass                                                                            2139\n",
       "Effusion|Infiltration                                                           1603\n",
       "Atelectasis|Infiltration                                                        1350\n",
       "Consolidation                                                                   1310\n",
       "Atelectasis|Effusion                                                            1165\n",
       "Pleural_Thickening                                                              1126\n",
       "Cardiomegaly                                                                    1093\n",
       "Emphysema                                                                        892\n",
       "Infiltration|Nodule                                                              829\n",
       "Atelectasis|Effusion|Infiltration                                                737\n",
       "Fibrosis                                                                         727\n",
       "Edema                                                                            628\n",
       "Cardiomegaly|Effusion                                                            484\n",
       "Consolidation|Infiltration                                                       441\n",
       "Infiltration|Mass                                                                420\n",
       "Effusion|Pneumothorax                                                            403\n",
       "Effusion|Mass                                                                    402\n",
       "Atelectasis|Consolidation                                                        398\n",
       "Mass|Nodule                                                                      394\n",
       "Edema|Infiltration                                                               392\n",
       "Infiltration|Pneumothorax                                                        345\n",
       "Emphysema|Pneumothorax                                                           337\n",
       "Consolidation|Effusion                                                           337\n",
       "Pneumonia                                                                        322\n",
       "                                                                               ...  \n",
       "Atelectasis|Cardiomegaly|Consolidation|Edema                                       1\n",
       "Cardiomegaly|Consolidation|Effusion|Infiltration|Mass|Nodule                       1\n",
       "Consolidation|Edema|Effusion|Pneumonia                                             1\n",
       "Atelectasis|Consolidation|Effusion|Infiltration|Nodule|Pleural_Thickening          1\n",
       "Atelectasis|Cardiomegaly|Effusion|Infiltration|Mass|Pleural_Thickening             1\n",
       "Atelectasis|Emphysema|Fibrosis|Nodule                                              1\n",
       "Pleural_Thickening|Nodule                                                          1\n",
       "Emphysema|Mass|Nodule|Pleural_Thickening                                           1\n",
       "Atelectasis|Emphysema|Fibrosis|Infiltration|Nodule|Pneumothorax                    1\n",
       "Atelectasis|Consolidation|Pleural_Thickening|Pneumothorax                          1\n",
       "Consolidation|Effusion|Emphysema                                                   1\n",
       "Consolidation|Emphysema|Infiltration|Nodule|Pleural_Thickening|Pneumothorax        1\n",
       "Fibrosis|Infiltration|Nodule|Pneumonia                                             1\n",
       "Atelectasis|Edema|Effusion|Hernia|Infiltration                                     1\n",
       "Infiltration|Mass|Nodule|Pneumonia                                                 1\n",
       "Emphysema|Fibrosis|Infiltration                                                    1\n",
       "Edema|Effusion|Emphysema|Infiltration                                              1\n",
       "Cardiomegaly|Infiltration|Nodule|Pneumonia                                         1\n",
       "Emphysema|Mass|Nodule|Pleural_Thickening|Pneumothorax                              1\n",
       "Atelectasis|Cardiomegaly|Consolidation|Effusion|Infiltration|Mass                  1\n",
       "Atelectasis|Consolidation|Effusion|Fibrosis|Infiltration|Pleural_Thickening        1\n",
       "Atelectasis|Infiltration|Mass|Pneumonia                                            1\n",
       "Cardiomegaly|Infiltration|Mass|Nodule                                              1\n",
       "Consolidation|Edema|Pneumothorax                                                   1\n",
       "Effusion|Emphysema|Fibrosis|Mass|Nodule                                            1\n",
       "Hernia|Infiltration|Pneumonia                                                      1\n",
       "Edema|Infiltration|Mass|Nodule                                                     1\n",
       "Effusion|Pneumothorax|Pneumonia                                                    1\n",
       "Infiltration|Effusion                                                              1\n",
       "Atelectasis|Edema|Effusion|Mass|Pneumothorax                                       1\n",
       "Name: Finding Labels, Length: 836, dtype: int64"
      ]
     },
     "execution_count": 54,
     "metadata": {},
     "output_type": "execute_result"
    }
   ],
   "source": [
    "findings.value_counts()"
   ]
  },
  {
   "cell_type": "code",
   "execution_count": null,
   "metadata": {},
   "outputs": [],
   "source": []
  }
 ],
 "metadata": {
  "kernelspec": {
   "display_name": "Python 3",
   "language": "python",
   "name": "python3"
  },
  "language_info": {
   "codemirror_mode": {
    "name": "ipython",
    "version": 3
   },
   "file_extension": ".py",
   "mimetype": "text/x-python",
   "name": "python",
   "nbconvert_exporter": "python",
   "pygments_lexer": "ipython3",
   "version": "3.6.8"
  }
 },
 "nbformat": 4,
 "nbformat_minor": 2
}
