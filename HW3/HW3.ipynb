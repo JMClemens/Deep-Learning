{
 "cells": [
  {
   "cell_type": "markdown",
   "metadata": {},
   "source": [
    "Homework 3 Submission - CS498H/598H\n",
    "\n",
    "Dr. Liu, Hood College, Spring 2019\n",
    "\n",
    "Joshua Clemens\n",
    "\n",
    "02/20/2019"
   ]
  },
  {
   "cell_type": "code",
   "execution_count": 1,
   "metadata": {},
   "outputs": [],
   "source": [
    "import tensorflow as tf\n",
    "from tensorflow import keras\n",
    "import matplotlib.pyplot as plt\n",
    "import numpy as np\n",
    "from PIL import Image as Pillow\n",
    "import PIL.ImageOps\n",
    "import glob"
   ]
  },
  {
   "cell_type": "markdown",
   "metadata": {},
   "source": [
    "Load the Fashion MNIST dataset and create model structure"
   ]
  },
  {
   "cell_type": "code",
   "execution_count": 2,
   "metadata": {},
   "outputs": [],
   "source": [
    "# Load testing and training data\n",
    "fashion_mnist = keras.datasets.fashion_mnist\n",
    "(train_images, train_labels), (test_images, test_labels) = fashion_mnist.load_data()\n",
    "class_names = ['T-shirt/top', 'Trouser', 'Pullover', 'Dress', 'Coat',\n",
    "              'Sandal', 'Shirt', 'Sneaker', 'Bag', 'Ankle boot']\n",
    "\n",
    "# Preprocess image values to be in [0,1]\n",
    "train_images = train_images / 255.0\n",
    "test_images = test_images / 255.0\n",
    "\n",
    "# Build model\n",
    "model = keras.Sequential([\n",
    "    # First layer transforms the format of images from a 2d array (of 28x28 pixels)\n",
    "    # To a 1d array of 28 * 28 (784) pixels\n",
    "    keras.layers.Flatten(input_shape=(28,28)),\n",
    "    # Second layer (dense, fully connected) has 128 nodes (or neurons)\n",
    "    keras.layers.Dense(128, activation=tf.nn.relu),\n",
    "    # Third layer, softmax layer, returns an array of 10 probability scores\n",
    "    #  that sum to 1\n",
    "    # Each node contains a score that indicates the probability that the \n",
    "    #  current image belongs to one of the 10 classes\n",
    "    keras.layers.Dense(10, activation=tf.nn.softmax)\n",
    "])\n",
    "\n",
    "model.compile(\n",
    "    optimizer='adam',\n",
    "    loss='sparse_categorical_crossentropy',\n",
    "    metrics=['accuracy']\n",
    ")"
   ]
  },
  {
   "cell_type": "markdown",
   "metadata": {},
   "source": [
    "Train the model against the processed data"
   ]
  },
  {
   "cell_type": "code",
   "execution_count": 3,
   "metadata": {},
   "outputs": [
    {
     "name": "stdout",
     "output_type": "stream",
     "text": [
      "Epoch 1/5\n",
      "60000/60000 [==============================] - 5s 88us/step - loss: 0.4977 - acc: 0.8243\n",
      "Epoch 2/5\n",
      "60000/60000 [==============================] - 5s 83us/step - loss: 0.3732 - acc: 0.8646\n",
      "Epoch 3/5\n",
      "60000/60000 [==============================] - 5s 81us/step - loss: 0.3367 - acc: 0.8778\n",
      "Epoch 4/5\n",
      "60000/60000 [==============================] - 5s 82us/step - loss: 0.3118 - acc: 0.8838\n",
      "Epoch 5/5\n",
      "60000/60000 [==============================] - 5s 82us/step - loss: 0.2940 - acc: 0.8907\n"
     ]
    },
    {
     "data": {
      "text/plain": [
       "<tensorflow.python.keras.callbacks.History at 0x21fec9e54e0>"
      ]
     },
     "execution_count": 3,
     "metadata": {},
     "output_type": "execute_result"
    }
   ],
   "source": [
    "model.fit(train_images, train_labels, epochs=5)"
   ]
  },
  {
   "cell_type": "markdown",
   "metadata": {},
   "source": [
    "Evaluate our model's performance by observing it's loss and accuracy against the test data"
   ]
  },
  {
   "cell_type": "code",
   "execution_count": 4,
   "metadata": {
    "scrolled": true
   },
   "outputs": [
    {
     "name": "stdout",
     "output_type": "stream",
     "text": [
      "10000/10000 [==============================] - 0s 40us/step\n",
      "Loss 0.35754989639520646\n",
      "Accuracy 0.8685\n"
     ]
    }
   ],
   "source": [
    "loss, acc = model.evaluate(test_images, test_labels)\n",
    "print('Loss', loss)\n",
    "print('Accuracy', acc)"
   ]
  },
  {
   "cell_type": "markdown",
   "metadata": {},
   "source": [
    "Load our test images using our 4 methods of RGB to grayscale image manipulation\n",
    "\n",
    "1. Load each image as a grayscale image\n",
    "2. Invert the image to give a white background\n",
    "3. Resize the image to be 28x28\n",
    "4. Convert from Pillow's Image type to a numpy array\n",
    "5. Convert each value in image arrays from 1-255 to 0-1"
   ]
  },
  {
   "cell_type": "code",
   "execution_count": 5,
   "metadata": {},
   "outputs": [],
   "source": [
    "imgs = []\n",
    "\n",
    "# Load each image file found in the images/ directory\n",
    "for file in glob.glob('images/*'):\n",
    "    # Opens image and converts to grayscale\n",
    "    image = Pillow.open(file).convert('L')\n",
    "    # Invert image to give white background\n",
    "    image = PIL.ImageOps.invert(image)\n",
    "    imgs.append(image)\n",
    "\n",
    "# Resize images in our list\n",
    "imgs = [ x.resize((28,28)) for x in imgs ]\n",
    "\n",
    "# Convert each Pillow image to numpy array\n",
    "imgs = [ np.array(x) for x in imgs ]\n",
    "\n",
    "# Convert each image to have volues the model is trained for\n",
    "imgs = [ x/255.0 for x in imgs ]"
   ]
  },
  {
   "cell_type": "markdown",
   "metadata": {},
   "source": [
    "Below there are 4 test images shown, along side a test image loaded from the dataset"
   ]
  },
  {
   "cell_type": "code",
   "execution_count": 6,
   "metadata": {},
   "outputs": [
    {
     "data": {
      "image/png": "[encoded data removed]",
      "text/plain": [
       "<Figure size 720x720 with 5 Axes>"
      ]
     },
     "metadata": {},
     "output_type": "display_data"
    }
   ],
   "source": [
    "# Build our image plot from our 4 test images\n",
    "plt.figure(figsize=(10,10))\n",
    "for i in range(len(imgs)):\n",
    "  plt.subplot(5,5,i+1)\n",
    "  plt.xticks([])\n",
    "  plt.yticks([])\n",
    "  plt.grid(False)\n",
    "  plt.imshow(imgs[i], cmap=plt.cm.binary)\n",
    "# Show an example of Fashion_MNIST test image after our test images\n",
    "plt.subplot(5,5,len(imgs)+1)\n",
    "plt.xticks([])\n",
    "plt.yticks([])\n",
    "plt.grid(False)\n",
    "plt.imshow(test_images[0], cmap=plt.cm.binary)\n",
    "plt.show()"
   ]
  },
  {
   "cell_type": "markdown",
   "metadata": {},
   "source": [
    "We then test our manipulated images against our model and plot our predictions for each image."
   ]
  },
  {
   "cell_type": "code",
   "execution_count": 7,
   "metadata": {},
   "outputs": [
    {
     "data": {
      "image/png": "[encoded data removed]",
      "text/plain": [
       "<Figure size 432x288 with 1 Axes>"
      ]
     },
     "metadata": {
      "needs_background": "light"
     },
     "output_type": "display_data"
    },
    {
     "data": {
      "image/png": "[encoded data removed]",
      "text/plain": [
       "<Figure size 432x288 with 1 Axes>"
      ]
     },
     "metadata": {
      "needs_background": "light"
     },
     "output_type": "display_data"
    },
    {
     "data": {
      "image/png": "[encoded data removed]",
      "text/plain": [
       "<Figure size 432x288 with 1 Axes>"
      ]
     },
     "metadata": {
      "needs_background": "light"
     },
     "output_type": "display_data"
    },
    {
     "data": {
      "image/png": "[encoded data removed]",
      "text/plain": [
       "<Figure size 432x288 with 1 Axes>"
      ]
     },
     "metadata": {
      "needs_background": "light"
     },
     "output_type": "display_data"
    }
   ],
   "source": [
    "# Helper function to plot our predictions\n",
    "def plot_value_array(i, predictions_array, true_label):\n",
    "  predictions_array, true_label = predictions_array[i], true_label[i]\n",
    "  plt.grid(False)\n",
    "  plt.xticks([])\n",
    "  plt.yticks([])\n",
    "  thisplot = plt.bar(range(10), predictions_array, color=\"#777777\")\n",
    "  plt.ylim([0, 1]) \n",
    "  predicted_label = np.argmax(predictions_array)\n",
    " \n",
    "  thisplot[predicted_label].set_color('red')\n",
    "  thisplot[true_label].set_color('blue')\n",
    "\n",
    "predictions = []\n",
    "for img in imgs:\n",
    "  batch = (np.expand_dims(img,0))\n",
    "  # Test our image against our model\n",
    "  prediction = model.predict(batch)\n",
    "  # Plot the output of the model's prediction\n",
    "  plot_value_array(0, prediction, test_labels)\n",
    "  _ = plt.xticks(range(10), class_names, rotation=45)\n",
    "  plt.show()"
   ]
  },
  {
   "cell_type": "markdown",
   "metadata": {},
   "source": [
    "Our model had an accuracy of 87.72% against the test data. However, It correctly predicted 25% of the 4 test images we loaded. \n",
    "The image it correctly identified was a T-Shirt/top.\n",
    "It incorrectly identified a shirt as a pullover, a pullover as a shirt, and sneakers as sandals.\n",
    "\n",
    "Something interesting I noticed was that predictions made by our model can change if this notebook is re-run and the model is re-trained and re-compiled. The shirt (image 3) was never completely correctly predicted, however sometimes it would be classified as a pullover, and other times as a T-shirt/top."
   ]
  }
 ],
 "metadata": {
  "kernelspec": {
   "display_name": "Python 3",
   "language": "python",
   "name": "python3"
  },
  "language_info": {
   "codemirror_mode": {
    "name": "ipython",
    "version": 3
   },
   "file_extension": ".py",
   "mimetype": "text/x-python",
   "name": "python",
   "nbconvert_exporter": "python",
   "pygments_lexer": "ipython3",
   "version": "3.6.7"
  }
 },
 "nbformat": 4,
 "nbformat_minor": 2
}
